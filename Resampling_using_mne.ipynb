{
  "nbformat": 4,
  "nbformat_minor": 0,
  "metadata": {
    "colab": {
      "provenance": [],
      "authorship_tag": "ABX9TyNKQQZNYQ1ISM+J8KL++lb5",
      "include_colab_link": true
    },
    "kernelspec": {
      "name": "python3",
      "display_name": "Python 3"
    },
    "language_info": {
      "name": "python"
    }
  },
  "cells": [
    {
      "cell_type": "markdown",
      "metadata": {
        "id": "view-in-github",
        "colab_type": "text"
      },
      "source": [
        "<a href=\"https://colab.research.google.com/github/Adla-Zubair/Adla-Zubair/blob/main/Resampling_using_mne.ipynb\" target=\"_parent\"><img src=\"https://colab.research.google.com/assets/colab-badge.svg\" alt=\"Open In Colab\"/></a>"
      ]
    },
    {
      "cell_type": "code",
      "source": [
        "!pip install mne"
      ],
      "metadata": {
        "id": "wMo2PXDAJP63"
      },
      "execution_count": null,
      "outputs": []
    },
    {
      "cell_type": "code",
      "source": [
        "!pip install pyedflib"
      ],
      "metadata": {
        "id": "B9SgOfjUNOY5"
      },
      "execution_count": null,
      "outputs": []
    },
    {
      "cell_type": "code",
      "source": [
        "import mne\n",
        "from mne.io import RawArray\n",
        "#from mne.channels import Info\n",
        "from pyedflib import highlevel"
      ],
      "metadata": {
        "id": "4szbbDm8JZZh"
      },
      "execution_count": 16,
      "outputs": []
    },
    {
      "cell_type": "code",
      "source": [
        "file = '/content/FA7310SO_0001.edf'"
      ],
      "metadata": {
        "id": "2Y8qeENO4lB-"
      },
      "execution_count": 36,
      "outputs": []
    },
    {
      "cell_type": "code",
      "source": [
        "raw = mne.io.read_raw_edf(file, preload= True)"
      ],
      "metadata": {
        "id": "-irissur4jR-"
      },
      "execution_count": null,
      "outputs": []
    },
    {
      "cell_type": "code",
      "source": [
        "raw_eeg = raw.resample(sfreq=250)"
      ],
      "metadata": {
        "id": "dC4NIcuc4nkm"
      },
      "execution_count": 38,
      "outputs": []
    },
    {
      "cell_type": "code",
      "source": [
        "# Save the modified EEG data to your desktop\n",
        "output_path = '/content/raw_eeg.fif'  # Replace with your desired path\n",
        "raw.save(output_path, overwrite=True)"
      ],
      "metadata": {
        "id": "mFdHvokXJ2U6"
      },
      "execution_count": null,
      "outputs": []
    },
    {
      "cell_type": "code",
      "source": [
        "output = mne.export('raw_resampled', raw, fmt='edf', physical_range='auto', add_ch_type=True, *, overwrite=False, verbose=None)"
      ],
      "metadata": {
        "id": "asJxhqCDAipn"
      },
      "execution_count": null,
      "outputs": []
    },
    {
      "cell_type": "code",
      "source": [
        "import pyedflib # pip install pyedflib\n",
        "from pyedflib import highlevel # new high-level interface\n",
        "from pyedflib import FILETYPE_BDF, FILETYPE_BDFPLUS, FILETYPE_EDF, FILETYPE_EDFPLUS\n",
        "from datetime import datetime, timezone, timedelta\n",
        "import mne\n",
        "import os\n",
        "\n",
        "def _stamp_to_dt(utc_stamp):\n",
        "    \"\"\"Convert timestamp to datetime object in Windows-friendly way.\"\"\"\n",
        "    if 'datetime' in str(type(utc_stamp)): return utc_stamp\n",
        "    # The min on windows is 86400\n",
        "    stamp = [int(s) for s in utc_stamp]\n",
        "    if len(stamp) == 1:  # In case there is no microseconds information\n",
        "        stamp.append(0)\n",
        "    return (datetime.fromtimestamp(0, tz=timezone.utc) +\n",
        "            timedelta(0, stamp[0], stamp[1]))  # day, sec, μs\n",
        "\n",
        "\n",
        "def write_mne_edf(raw_eeg, fname = 'raw_resampled', picks=None, tmin=None, tmax=None,\n",
        "                  overwrite=False):\n",
        "    \"\"\"\n",
        "    Saves the raw content of an MNE.io.Raw and its subclasses to\n",
        "    a file using the EDF+/BDF filetype\n",
        "    pyEDFlib is used to save the raw contents of the RawArray to disk\n",
        "    Parameters\n",
        "    ----------\n",
        "    mne_raw : mne.io.Raw\n",
        "        An object with super class mne.io.Raw that contains the data\n",
        "        to save\n",
        "    fname : string\n",
        "        File name of the new dataset. This has to be a new filename\n",
        "        unless data have been preloaded. Filenames should end with .edf\n",
        "    picks : array-like of int | None\n",
        "        Indices of channels to include. If None all channels are kept.\n",
        "    tmin : float | None\n",
        "        Time in seconds of first sample to save. If None first sample\n",
        "        is used.\n",
        "    tmax : float | None\n",
        "        Time in seconds of last sample to save. If None last sample\n",
        "        is used.\n",
        "    overwrite : bool\n",
        "        If True, the destination file (if it exists) will be overwritten.\n",
        "        If False (default), an error will be raised if the file exists.\n",
        "    \"\"\"\n",
        "    if not issubclass(type(raw_eeg), mne.io.BaseRaw):\n",
        "        raise TypeError('Must be mne.io.Raw type')\n",
        "    if not overwrite and os.path.exists(fname):\n",
        "        raise OSError('File already exists. No overwrite.')\n",
        "\n",
        "    # static settings\n",
        "    has_annotations = True if len(raw_eeg.annotations)>0 else False\n",
        "    if os.path.splitext(fname)[-1] == '.edf':\n",
        "        file_type = FILETYPE_EDFPLUS if has_annotations else FILETYPE_EDF\n",
        "        dmin, dmax = -32768, 32767\n",
        "    else:\n",
        "        file_type = FILETYPE_BDFPLUS if has_annotations else FILETYPE_BDF\n",
        "        dmin, dmax = -8388608, 8388607\n",
        "\n",
        "    print('saving to {}, filetype {}'.format(fname, file_type))\n",
        "    sfreq = raw_eeg.info['sfreq']\n",
        "    date = _stamp_to_dt(raw_eeg.info['meas_date'])\n",
        "\n",
        "    if tmin:\n",
        "        date += timedelta(seconds=tmin)\n",
        "    # no conversion necessary, as pyedflib can handle datetime.\n",
        "    #date = date.strftime('%d %b %Y %H:%M:%S')\n",
        "    first_sample = int(sfreq*tmin)\n",
        "    last_sample  = int(sfreq*tmax) if tmax is not None else None\n",
        "\n",
        "\n",
        "    # convert data\n",
        "    channels = raw_eeg.get_data(picks,\n",
        "                                start = first_sample,\n",
        "                                stop  = last_sample)\n",
        "\n",
        "    # convert to microvolts to scale up precision\n",
        "    channels *= 1e6\n",
        "\n",
        "    # set conversion parameters\n",
        "    n_channels = len(channels)\n",
        "\n",
        "    # create channel from this\n",
        "    try:\n",
        "        f = pyedflib.EdfWriter(fname,\n",
        "                               n_channels=n_channels,\n",
        "                               file_type=file_type)\n",
        "\n",
        "        channel_info = []\n",
        "\n",
        "        ch_idx = range(n_channels) if picks is None else picks\n",
        "        keys = list(raw_eeg._orig_units.keys())\n",
        "        for i in ch_idx:\n",
        "            try:\n",
        "                ch_dict = {'label': raw_eeg.ch_names[i],\n",
        "                           'dimension': raw_eeg._orig_units[keys[i]],\n",
        "                           'sample_rate': raw_eeg._raw_extras[0]['n_samps'][i],\n",
        "                           'physical_min': raw_eeg._raw_extras[0]['physical_min'][i],\n",
        "                           'physical_max': raw_eeg._raw_extras[0]['physical_max'][i],\n",
        "                           'digital_min':  raw_eeg._raw_extras[0]['digital_min'][i],\n",
        "                           'digital_max':  raw_eeg._raw_extras[0]['digital_max'][i],\n",
        "                           'transducer': '',\n",
        "                           'prefilter': ''}\n",
        "            except:\n",
        "                ch_dict = {'label': raw_eeg.ch_names[i],\n",
        "                           'dimension': raw_eeg._orig_units[keys[i]],\n",
        "                           'sample_rate': sfreq,\n",
        "                           'physical_min': channels.min(),\n",
        "                           'physical_max': channels.max(),\n",
        "                           'digital_min':  dmin,\n",
        "                           'digital_max':  dmax,\n",
        "                           'transducer': '',\n",
        "                           'prefilter': ''}\n",
        "\n",
        "            channel_info.append(ch_dict)\n",
        "        f.setPatientCode(raw_eeg._raw_extras[0]['subject_info'].get('id', '0'))\n",
        "        f.setPatientName(raw_eeg._raw_extras[0]['subject_info'].get('name', 'noname'))\n",
        "        f.setTechnician('mne-gist-save-edf-skjerns')\n",
        "        f.setSignalHeaders(channel_info)\n",
        "        f.setStartdatetime(date)\n",
        "        f.writeSamples(channels)\n",
        "        for annotation in raw_eeg.annotations:\n",
        "            onset = annotation['onset']\n",
        "            duration = annotation['duration']\n",
        "            description = annotation['description']\n",
        "            f.writeAnnotation(onset, duration, description)\n",
        "\n",
        "    except Exception as e:\n",
        "        raise e\n",
        "    finally:\n",
        "        f.close()\n",
        "    return True"
      ],
      "metadata": {
        "id": "svOmGv28MTY1"
      },
      "execution_count": 39,
      "outputs": []
    },
    {
      "cell_type": "code",
      "source": [
        "output_path = '/content/raw_eeg.edf'"
      ],
      "metadata": {
        "id": "iruREuyPN4Lb"
      },
      "execution_count": 41,
      "outputs": []
    },
    {
      "cell_type": "code",
      "source": [
        "import pyedflib\n",
        "\n",
        "# Convert MNE Raw data to pyedflib RawEDF object\n",
        "edf_data = raw.get_data()\n",
        "edf_channels = raw.info['ch_names']\n",
        "sample_frequency = raw.info['sfreq']\n",
        "n_channels, n_samples = edf_data.shape\n"
      ],
      "metadata": {
        "id": "EpX_Mge1M2sX"
      },
      "execution_count": 26,
      "outputs": []
    },
    {
      "cell_type": "code",
      "source": [
        "\n",
        "# Create an EDF file\n",
        "edf_file = pyedflib.EdfWriter('raw_eeg.edf', n_channels=n_channels, file_type=pyedflib.FILETYPE_EDFPLUS)\n",
        "\n",
        "# Add channel information\n",
        "# Create EdfSignalInfo objects for each channel and set labels\n",
        "channel_info = [pyedflib.EdfSignalInfo(label=edf_channels, sample_rate=sample_frequency, physical_max=edf_data[i].max(),\n",
        "                                       physical_min=edf_data[i].min(), digital_max=32767, digital_min=-32768,\n",
        "                                       transducer='')]\n",
        "for i in range(n_channels):\n",
        "    edf_file.setSignalHeader(i, channel_info[i])\n",
        "\n",
        "# Write EEG data to the file\n",
        "edf_file.writeSamples(edf_data)\n",
        "\n",
        "# Close the EDF file\n",
        "edf_file.close()\n",
        "\n",
        "\n",
        "\n",
        "\n"
      ],
      "metadata": {
        "id": "uK3KGjvKN25X"
      },
      "execution_count": null,
      "outputs": []
    },
    {
      "cell_type": "code",
      "source": [
        "#Close the EDF file\n",
        "edf_file.close()"
      ],
      "metadata": {
        "id": "4zJTce-4N8NA"
      },
      "execution_count": 42,
      "outputs": []
    },
    {
      "cell_type": "code",
      "source": [],
      "metadata": {
        "id": "d7WRoYJhO26M"
      },
      "execution_count": null,
      "outputs": []
    }
  ]
}